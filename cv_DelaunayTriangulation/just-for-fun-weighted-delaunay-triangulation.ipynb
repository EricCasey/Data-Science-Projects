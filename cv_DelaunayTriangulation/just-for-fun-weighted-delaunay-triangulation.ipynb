{
 "cells": [
  {
   "cell_type": "markdown",
   "metadata": {},
   "source": []
  },
  {
   "cell_type": "code",
   "execution_count": 1,
   "metadata": {
    "_cell_guid": "b1076dfc-b9ad-4769-8c92-a6c4dae69d19",
    "_uuid": "8f2839f25d086af736a60e9eeb907d3b93b6e0e5"
   },
   "outputs": [
    {
     "ename": "ModuleNotFoundError",
     "evalue": "No module named 'dlib'",
     "output_type": "error",
     "traceback": [
      "\u001b[0;31m---------------------------------------------------------------------------\u001b[0m",
      "\u001b[0;31mModuleNotFoundError\u001b[0m                       Traceback (most recent call last)",
      "\u001b[0;32m<ipython-input-1-cf8818eb0809>\u001b[0m in \u001b[0;36m<module>\u001b[0;34m()\u001b[0m\n\u001b[1;32m      2\u001b[0m \u001b[0;32mimport\u001b[0m \u001b[0mcv2\u001b[0m\u001b[0;34m\u001b[0m\u001b[0m\n\u001b[1;32m      3\u001b[0m \u001b[0;32mimport\u001b[0m \u001b[0msys\u001b[0m\u001b[0;34m\u001b[0m\u001b[0m\n\u001b[0;32m----> 4\u001b[0;31m \u001b[0;32mimport\u001b[0m \u001b[0mdlib\u001b[0m\u001b[0;34m\u001b[0m\u001b[0m\n\u001b[0m\u001b[1;32m      5\u001b[0m \u001b[0;32mimport\u001b[0m \u001b[0mglob\u001b[0m\u001b[0;34m\u001b[0m\u001b[0m\n\u001b[1;32m      6\u001b[0m \u001b[0;32mimport\u001b[0m \u001b[0mmath\u001b[0m\u001b[0;34m\u001b[0m\u001b[0m\n",
      "\u001b[0;31mModuleNotFoundError\u001b[0m: No module named 'dlib'"
     ]
    }
   ],
   "source": [
    "import os\n",
    "import cv2\n",
    "import sys\n",
    "import dlib\n",
    "import glob\n",
    "import math\n",
    "import random\n",
    "import imageio\n",
    "\n",
    "import numpy as np\n",
    "import pandas as pd\n",
    "import matplotlib\n",
    "\n",
    "from imutils import face_utils\n",
    "from matplotlib.pyplot import imshow\n",
    "from IPython.display import Image, HTML, display\n",
    "from matplotlib import pyplot as plt\n",
    "\n",
    "print(sys.executable)\n",
    "# print(os.sys.path)"
   ]
  },
  {
   "cell_type": "code",
   "execution_count": 2,
   "metadata": {},
   "outputs": [
    {
     "ename": "NameError",
     "evalue": "name 'Image' is not defined",
     "output_type": "error",
     "traceback": [
      "\u001b[0;31m---------------------------------------------------------------------------\u001b[0m",
      "\u001b[0;31mNameError\u001b[0m                                 Traceback (most recent call last)",
      "\u001b[0;32m<ipython-input-2-a5ba9f13805c>\u001b[0m in \u001b[0;36m<module>\u001b[0;34m()\u001b[0m\n\u001b[1;32m      7\u001b[0m \u001b[0mface_4\u001b[0m \u001b[0;34m=\u001b[0m \u001b[0;34m\"../input/recognizing-faces-in-the-wild/test/\"\u001b[0m \u001b[0;34m+\u001b[0m \u001b[0mall_faces\u001b[0m\u001b[0;34m[\u001b[0m\u001b[0;36m13\u001b[0m\u001b[0;34m]\u001b[0m\u001b[0;34m\u001b[0m\u001b[0m\n\u001b[1;32m      8\u001b[0m \u001b[0;34m\u001b[0m\u001b[0m\n\u001b[0;32m----> 9\u001b[0;31m \u001b[0mImage\u001b[0m\u001b[0;34m(\u001b[0m\u001b[0mfilename\u001b[0m\u001b[0;34m=\u001b[0m\u001b[0mface_4\u001b[0m\u001b[0;34m)\u001b[0m\u001b[0;34m\u001b[0m\u001b[0m\n\u001b[0m",
      "\u001b[0;31mNameError\u001b[0m: name 'Image' is not defined"
     ]
    }
   ],
   "source": [
    "# print(os.listdir(\"../input/recognizing-faces-in-the-wild/test\"))\n",
    "all_faces = os.listdir(\"../input/recognizing-faces-in-the-wild/test\")\n",
    "\n",
    "face_1 = \"../input/recognizing-faces-in-the-wild/test/\" + all_faces[3]\n",
    "face_2 = \"../input/recognizing-faces-in-the-wild/test/\" + all_faces[6]\n",
    "face_3 = \"../input/recognizing-faces-in-the-wild/test/\" + all_faces[9]\n",
    "face_4 = \"../input/recognizing-faces-in-the-wild/test/\" + all_faces[13]\n",
    "\n",
    "Image(filename=face_4)"
   ]
  },
  {
   "cell_type": "code",
   "execution_count": 3,
   "metadata": {
    "_cell_guid": "79c7e3d0-c299-4dcb-8224-4455121ee9b0",
    "_uuid": "d629ff2d2480ee46fbb7e2d37f6b5fab8052498a"
   },
   "outputs": [
    {
     "name": "stdout",
     "output_type": "stream",
     "text": [
      "['shape_predictor_68_face_landmarks.dat', 'haarcascade_frontalface_default.xml', 'shape_predictor_81_face_landmarks.dat', 'shape_predictor_5_face_landmarks.dat']\n"
     ]
    }
   ],
   "source": [
    "print(os.listdir(\"../input/utilities/\"))\n",
    "\n",
    "# Bounding Box Frontal Face Detector\n",
    "util_box = \"../input/utilities/haarcascade_frontalface_default.xml\"\n",
    "\n",
    "# 5 Facial Points\n",
    "predictor_path_5 = \"../input/utilities/shape_predictor_5_face_landmarks.dat\"\n",
    "\n",
    "# 68 Facial Points \n",
    "predictor_path_68 = \"../input/utilities/shape_predictor_68_face_landmarks.dat\"\n",
    "\n",
    "# 81 Facial Points \n",
    "predictor_path_81 = \"../input/utilities/shape_predictor_81_face_landmarks.dat\""
   ]
  },
  {
   "cell_type": "code",
   "execution_count": 4,
   "metadata": {},
   "outputs": [
    {
     "name": "stdout",
     "output_type": "stream",
     "text": [
      "[[ 17   5 178 178]]\n"
     ]
    },
    {
     "ename": "NameError",
     "evalue": "name 'Image' is not defined",
     "output_type": "error",
     "traceback": [
      "\u001b[0;31m---------------------------------------------------------------------------\u001b[0m",
      "\u001b[0;31mNameError\u001b[0m                                 Traceback (most recent call last)",
      "\u001b[0;32m<ipython-input-4-722a0ac9e1c1>\u001b[0m in \u001b[0;36m<module>\u001b[0;34m()\u001b[0m\n\u001b[1;32m     30\u001b[0m \u001b[0;31m# TEST IT\u001b[0m\u001b[0;34m\u001b[0m\u001b[0;34m\u001b[0m\u001b[0m\n\u001b[1;32m     31\u001b[0m \u001b[0mbounding_box\u001b[0m\u001b[0;34m(\u001b[0m\u001b[0mface_1\u001b[0m\u001b[0;34m,\u001b[0m \u001b[0;36m1.2\u001b[0m\u001b[0;34m,\u001b[0m \u001b[0;34m\"test\"\u001b[0m\u001b[0;34m)\u001b[0m\u001b[0;34m\u001b[0m\u001b[0m\n\u001b[0;32m---> 32\u001b[0;31m \u001b[0mImage\u001b[0m\u001b[0;34m(\u001b[0m\u001b[0mfilename\u001b[0m\u001b[0;34m=\u001b[0m\u001b[0;34m'./results/result_bounding_box.png'\u001b[0m\u001b[0;34m)\u001b[0m\u001b[0;34m\u001b[0m\u001b[0m\n\u001b[0m",
      "\u001b[0;31mNameError\u001b[0m: name 'Image' is not defined"
     ]
    }
   ],
   "source": [
    "# FUNCTION: Facial Bounding Box Detection\n",
    "# https://realpython.com/face-recognition-with-python/\n",
    "\n",
    "def bounding_box(imagePath, scale_factor, *mode):\n",
    "\n",
    "    # Haar Cascade For Front\n",
    "    faceCascade = cv2.CascadeClassifier(util_box)\n",
    "    \n",
    "    image = cv2.imread(imagePath)\n",
    "    gray = cv2.cvtColor(image, cv2.COLOR_BGR2GRAY)\n",
    "\n",
    "    # Detect faces in the image\n",
    "    faces = faceCascade.detectMultiScale(\n",
    "        gray,\n",
    "        scaleFactor=scale_factor,\n",
    "        minNeighbors=5,\n",
    "        minSize=(30, 30),\n",
    "        flags = cv2.CASCADE_SCALE_IMAGE # cv2.CV_HAAR_SCALE_IMAGE\n",
    "    )\n",
    "\n",
    "    for (x, y, w, h) in faces:\n",
    "        cv2.rectangle(image, (x, y), (x+w, y+h), (0, 255, 0), 2)\n",
    "    \n",
    "    if mode[0] == \"test\":\n",
    "        cv2.imwrite('./results/result_bounding_box.png', image)\n",
    "        print(faces)\n",
    "    \n",
    "    return faces\n",
    "\n",
    "# TEST IT\n",
    "bounding_box(face_1, 1.2, \"test\")\n",
    "Image(filename='./results/result_bounding_box.png')"
   ]
  },
  {
   "cell_type": "code",
   "execution_count": 5,
   "metadata": {},
   "outputs": [
    {
     "ename": "NameError",
     "evalue": "name 'dlib' is not defined",
     "output_type": "error",
     "traceback": [
      "\u001b[0;31m---------------------------------------------------------------------------\u001b[0m",
      "\u001b[0;31mNameError\u001b[0m                                 Traceback (most recent call last)",
      "\u001b[0;32m<ipython-input-5-910a5728c140>\u001b[0m in \u001b[0;36m<module>\u001b[0;34m()\u001b[0m\n\u001b[1;32m     32\u001b[0m     \u001b[0;32mreturn\u001b[0m \u001b[0mshape\u001b[0m\u001b[0;34m\u001b[0m\u001b[0m\n\u001b[1;32m     33\u001b[0m \u001b[0;34m\u001b[0m\u001b[0m\n\u001b[0;32m---> 34\u001b[0;31m \u001b[0mget_5_landmarks\u001b[0m\u001b[0;34m(\u001b[0m\u001b[0mface_2\u001b[0m\u001b[0;34m,\u001b[0m \u001b[0;34m'test'\u001b[0m\u001b[0;34m)\u001b[0m\u001b[0;34m\u001b[0m\u001b[0m\n\u001b[0m\u001b[1;32m     35\u001b[0m \u001b[0;31m# Image(filename=\"./test_faces/crop_alt_2.png\")\u001b[0m\u001b[0;34m\u001b[0m\u001b[0;34m\u001b[0m\u001b[0m\n\u001b[1;32m     36\u001b[0m \u001b[0mImage\u001b[0m\u001b[0;34m(\u001b[0m\u001b[0mfilename\u001b[0m\u001b[0;34m=\u001b[0m\u001b[0;34m\"./results/result_5_points.png\"\u001b[0m\u001b[0;34m)\u001b[0m\u001b[0;34m\u001b[0m\u001b[0m\n",
      "\u001b[0;32m<ipython-input-5-910a5728c140>\u001b[0m in \u001b[0;36mget_5_landmarks\u001b[0;34m(face_path, *mode)\u001b[0m\n\u001b[1;32m      1\u001b[0m \u001b[0;32mdef\u001b[0m \u001b[0mget_5_landmarks\u001b[0m\u001b[0;34m(\u001b[0m\u001b[0mface_path\u001b[0m\u001b[0;34m,\u001b[0m \u001b[0;34m*\u001b[0m\u001b[0mmode\u001b[0m\u001b[0;34m)\u001b[0m\u001b[0;34m:\u001b[0m\u001b[0;34m\u001b[0m\u001b[0m\n\u001b[1;32m      2\u001b[0m \u001b[0;34m\u001b[0m\u001b[0m\n\u001b[0;32m----> 3\u001b[0;31m     \u001b[0mdetector\u001b[0m \u001b[0;34m=\u001b[0m \u001b[0mdlib\u001b[0m\u001b[0;34m.\u001b[0m\u001b[0mget_frontal_face_detector\u001b[0m\u001b[0;34m(\u001b[0m\u001b[0;34m)\u001b[0m\u001b[0;34m\u001b[0m\u001b[0m\n\u001b[0m\u001b[1;32m      4\u001b[0m     \u001b[0mpredictor\u001b[0m \u001b[0;34m=\u001b[0m \u001b[0mdlib\u001b[0m\u001b[0;34m.\u001b[0m\u001b[0mshape_predictor\u001b[0m\u001b[0;34m(\u001b[0m\u001b[0mpredictor_path_5\u001b[0m\u001b[0;34m)\u001b[0m\u001b[0;34m\u001b[0m\u001b[0m\n\u001b[1;32m      5\u001b[0m     \u001b[0mimage\u001b[0m \u001b[0;34m=\u001b[0m \u001b[0mdlib\u001b[0m\u001b[0;34m.\u001b[0m\u001b[0mload_rgb_image\u001b[0m\u001b[0;34m(\u001b[0m\u001b[0mface_path\u001b[0m\u001b[0;34m)\u001b[0m\u001b[0;34m\u001b[0m\u001b[0m\n",
      "\u001b[0;31mNameError\u001b[0m: name 'dlib' is not defined"
     ]
    }
   ],
   "source": [
    "def get_5_landmarks(face_path, *mode):\n",
    "    \n",
    "    detector = dlib.get_frontal_face_detector()\n",
    "    predictor = dlib.shape_predictor(predictor_path_5)\n",
    "    image = dlib.load_rgb_image(face_path)\n",
    "    dets = detector(image, 1)\n",
    "\n",
    "    faces = dlib.full_object_detections()\n",
    "    \n",
    "    for detection in dets:\n",
    "        shape = predictor(image, detection)\n",
    "        faces.append(shape)\n",
    "        shape = face_utils.shape_to_np(shape)    \n",
    "        \n",
    "    # Cropped and aligned image\n",
    "    image = dlib.get_face_chip(image, faces[0])\n",
    "    image = cv2.resize(image,(500, 500))\n",
    "    \n",
    "    dets = detector(image, 1)\n",
    "    shape = predictor(image, dets[0])\n",
    "    shape = face_utils.shape_to_np(shape) \n",
    "    \n",
    "    for (x, y) in shape:\n",
    "        cv2.circle(image, (x, y), 2, (0, 255, 0), -1)\n",
    "\n",
    "    if mode[0] == \"test\":\n",
    "        cv2.imwrite('./results/result_5_points.png', cv2.cvtColor(image, cv2.COLOR_RGB2BGR))\n",
    "        print(shape)\n",
    "    elif mode[0] == \"crop\":\n",
    "        cv2.imwrite('./test_faces/crop_.png', cv2.cvtColor(image, cv2.COLOR_RGB2BGR))\n",
    "    \n",
    "    return shape\n",
    "  \n",
    "get_5_landmarks(face_2, 'test')\n",
    "# Image(filename=\"./test_faces/crop_alt_2.png\")\n",
    "Image(filename=\"./results/result_5_points.png\")"
   ]
  },
  {
   "cell_type": "code",
   "execution_count": 6,
   "metadata": {},
   "outputs": [
    {
     "ename": "NameError",
     "evalue": "name 'dlib' is not defined",
     "output_type": "error",
     "traceback": [
      "\u001b[0;31m---------------------------------------------------------------------------\u001b[0m",
      "\u001b[0;31mNameError\u001b[0m                                 Traceback (most recent call last)",
      "\u001b[0;32m<ipython-input-6-e24d527bbffb>\u001b[0m in \u001b[0;36m<module>\u001b[0;34m()\u001b[0m\n\u001b[1;32m     20\u001b[0m         \u001b[0;32mreturn\u001b[0m \u001b[0mshape\u001b[0m\u001b[0;34m\u001b[0m\u001b[0m\n\u001b[1;32m     21\u001b[0m \u001b[0;34m\u001b[0m\u001b[0m\n\u001b[0;32m---> 22\u001b[0;31m \u001b[0mget_68_landmarks\u001b[0m\u001b[0;34m(\u001b[0m\u001b[0mface_3\u001b[0m\u001b[0;34m,\u001b[0m \u001b[0;34m\"test\"\u001b[0m\u001b[0;34m)\u001b[0m\u001b[0;34m\u001b[0m\u001b[0m\n\u001b[0m\u001b[1;32m     23\u001b[0m \u001b[0mImage\u001b[0m\u001b[0;34m(\u001b[0m\u001b[0mfilename\u001b[0m\u001b[0;34m=\u001b[0m\u001b[0;34m'./results/result_68_points.png'\u001b[0m\u001b[0;34m)\u001b[0m\u001b[0;34m\u001b[0m\u001b[0m\n",
      "\u001b[0;32m<ipython-input-6-e24d527bbffb>\u001b[0m in \u001b[0;36mget_68_landmarks\u001b[0;34m(face_path, *mode)\u001b[0m\n\u001b[1;32m      1\u001b[0m \u001b[0;32mdef\u001b[0m \u001b[0mget_68_landmarks\u001b[0m\u001b[0;34m(\u001b[0m\u001b[0mface_path\u001b[0m\u001b[0;34m,\u001b[0m \u001b[0;34m*\u001b[0m\u001b[0mmode\u001b[0m\u001b[0;34m)\u001b[0m\u001b[0;34m:\u001b[0m\u001b[0;34m\u001b[0m\u001b[0m\n\u001b[1;32m      2\u001b[0m \u001b[0;34m\u001b[0m\u001b[0m\n\u001b[0;32m----> 3\u001b[0;31m     \u001b[0mdetector\u001b[0m \u001b[0;34m=\u001b[0m \u001b[0mdlib\u001b[0m\u001b[0;34m.\u001b[0m\u001b[0mget_frontal_face_detector\u001b[0m\u001b[0;34m(\u001b[0m\u001b[0;34m)\u001b[0m\u001b[0;34m\u001b[0m\u001b[0m\n\u001b[0m\u001b[1;32m      4\u001b[0m     \u001b[0mpredictor\u001b[0m \u001b[0;34m=\u001b[0m \u001b[0mdlib\u001b[0m\u001b[0;34m.\u001b[0m\u001b[0mshape_predictor\u001b[0m\u001b[0;34m(\u001b[0m\u001b[0mpredictor_path_68\u001b[0m\u001b[0;34m)\u001b[0m\u001b[0;34m\u001b[0m\u001b[0m\n\u001b[1;32m      5\u001b[0m     \u001b[0mimage\u001b[0m \u001b[0;34m=\u001b[0m \u001b[0mdlib\u001b[0m\u001b[0;34m.\u001b[0m\u001b[0mload_rgb_image\u001b[0m\u001b[0;34m(\u001b[0m\u001b[0mface_path\u001b[0m\u001b[0;34m)\u001b[0m\u001b[0;34m\u001b[0m\u001b[0m\n",
      "\u001b[0;31mNameError\u001b[0m: name 'dlib' is not defined"
     ]
    }
   ],
   "source": [
    "def get_68_landmarks(face_path, *mode):\n",
    "\n",
    "    detector = dlib.get_frontal_face_detector()\n",
    "    predictor = dlib.shape_predictor(predictor_path_68)\n",
    "    image = dlib.load_rgb_image(face_path)\n",
    "    \n",
    "    dets = detector(image, 1)\n",
    "          \n",
    "    for k, d in enumerate(dets):\n",
    "\n",
    "        shape = predictor(image, d)\n",
    "        shape = face_utils.shape_to_np(shape)\n",
    "\n",
    "        for (x, y) in shape:\n",
    "            cv2.circle(image, (x, y), 2, (0, 255, 0), -1)\n",
    "        \n",
    "        if mode[0] == \"test\":\n",
    "            cv2.imwrite('./results/result_68_points.png', cv2.cvtColor(image, cv2.COLOR_RGB2BGR))\n",
    "       \n",
    "        return shape\n",
    "\n",
    "get_68_landmarks(face_3, \"test\")\n",
    "Image(filename='./results/result_68_points.png')"
   ]
  },
  {
   "cell_type": "code",
   "execution_count": 7,
   "metadata": {},
   "outputs": [],
   "source": [
    "def get_delaunay(face_path):\n",
    "    \n",
    "    image = cv2.imread(face_path)\n",
    "    size = image.shape\n",
    "    rect = (0, 0, size[1], size[0])\n",
    "    \n",
    "    subdiv = cv2.Subdiv2D(rect);\n",
    "    \n",
    "    points = get_68_landmarks(face_path, None)\n",
    "    points = list(points)\n",
    "\n",
    "    for p in points:\n",
    "        subdiv.insert(tuple(p))\n",
    "    \n",
    "    triangleList = subdiv.getTriangleList();\n",
    "\n",
    "    return triangleList"
   ]
  },
  {
   "cell_type": "code",
   "execution_count": 8,
   "metadata": {},
   "outputs": [
    {
     "ename": "NameError",
     "evalue": "name 'test_crop_uma' is not defined",
     "output_type": "error",
     "traceback": [
      "\u001b[0;31m---------------------------------------------------------------------------\u001b[0m",
      "\u001b[0;31mNameError\u001b[0m                                 Traceback (most recent call last)",
      "\u001b[0;32m<ipython-input-8-69b8f1fccb0a>\u001b[0m in \u001b[0;36m<module>\u001b[0;34m()\u001b[0m\n\u001b[1;32m     35\u001b[0m     \u001b[0mcv2\u001b[0m\u001b[0;34m.\u001b[0m\u001b[0mimwrite\u001b[0m\u001b[0;34m(\u001b[0m\u001b[0;34m'./results/result_tri.png'\u001b[0m\u001b[0;34m,\u001b[0m \u001b[0mimage\u001b[0m\u001b[0;34m)\u001b[0m\u001b[0;34m\u001b[0m\u001b[0m\n\u001b[1;32m     36\u001b[0m \u001b[0;34m\u001b[0m\u001b[0m\n\u001b[0;32m---> 37\u001b[0;31m \u001b[0mdraw_delaunay\u001b[0m\u001b[0;34m(\u001b[0m\u001b[0mtest_crop_uma\u001b[0m\u001b[0;34m,\u001b[0m \u001b[0mget_delaunay\u001b[0m\u001b[0;34m(\u001b[0m\u001b[0mtest_crop_uma\u001b[0m\u001b[0;34m)\u001b[0m\u001b[0;34m)\u001b[0m\u001b[0;34m\u001b[0m\u001b[0m\n\u001b[0m\u001b[1;32m     38\u001b[0m \u001b[0mImage\u001b[0m\u001b[0;34m(\u001b[0m\u001b[0mfilename\u001b[0m\u001b[0;34m=\u001b[0m\u001b[0;34m\"./results/result_tri.png\"\u001b[0m\u001b[0;34m)\u001b[0m\u001b[0;34m\u001b[0m\u001b[0m\n",
      "\u001b[0;31mNameError\u001b[0m: name 'test_crop_uma' is not defined"
     ]
    }
   ],
   "source": [
    "# Check if a point is inside a rectangle\n",
    "def rect_contains(rect, point) :\n",
    "    if point[0] < rect[0] :\n",
    "        return False\n",
    "    elif point[1] < rect[1] :\n",
    "        return False\n",
    "    elif point[0] > rect[2] :\n",
    "        return False\n",
    "    elif point[1] > rect[3] :\n",
    "        return False\n",
    "    return True\n",
    "\n",
    "def draw_delaunay(face_path, triangleList):\n",
    "    \n",
    "    image = cv2.imread(face_path)\n",
    "    \n",
    "    r = (0, 0, image.shape[1], image.shape[0])\n",
    "\n",
    "    for t in triangleList :\n",
    "         \n",
    "        pt1 = (t[0], t[1])\n",
    "        pt2 = (t[2], t[3])\n",
    "        pt3 = (t[4], t[5])\n",
    "         \n",
    "        if rect_contains(r, pt1) and rect_contains(r, pt2) and rect_contains(r, pt3) :\n",
    "         \n",
    "            cv2.line(image, pt1, pt2, (255, 255, 255), 1, cv2.CV_AA, 0)\n",
    "            cv2.line(image, pt2, pt3, (255, 255, 255), 1, cv2.CV_AA, 0)\n",
    "            cv2.line(image, pt3, pt1, (255, 255, 255), 1, cv2.CV_AA, 0)\n",
    "            \n",
    "            cv2.circle(image, pt1, 2, (0, 0, 255), cv2.cv.CV_FILLED, cv2.CV_AA, 0)\n",
    "            cv2.circle(image, pt2, 2, (0, 0, 255), cv2.cv.CV_FILLED, cv2.CV_AA, 0)\n",
    "            cv2.circle(image, pt3, 2, (0, 0, 255), cv2.cv.CV_FILLED, cv2.CV_AA, 0)\n",
    "    \n",
    "    cv2.imwrite('./results/result_tri.png', image)\n",
    "\n",
    "draw_delaunay(test_crop_uma, get_delaunay(test_crop_uma))\n",
    "Image(filename=\"./results/result_tri.png\")"
   ]
  },
  {
   "cell_type": "code",
   "execution_count": 9,
   "metadata": {},
   "outputs": [
    {
     "ename": "NameError",
     "evalue": "name 'test_crop_uma' is not defined",
     "output_type": "error",
     "traceback": [
      "\u001b[0;31m---------------------------------------------------------------------------\u001b[0m",
      "\u001b[0;31mNameError\u001b[0m                                 Traceback (most recent call last)",
      "\u001b[0;32m<ipython-input-9-6a6fab9ceb41>\u001b[0m in \u001b[0;36m<module>\u001b[0;34m()\u001b[0m\n\u001b[1;32m     32\u001b[0m     \u001b[0mcv2\u001b[0m\u001b[0;34m.\u001b[0m\u001b[0mimwrite\u001b[0m\u001b[0;34m(\u001b[0m\u001b[0;34m'./results/result_voronoi_2.png'\u001b[0m\u001b[0;34m,\u001b[0m \u001b[0mimage\u001b[0m\u001b[0;34m)\u001b[0m\u001b[0;34m\u001b[0m\u001b[0m\n\u001b[1;32m     33\u001b[0m \u001b[0;34m\u001b[0m\u001b[0m\n\u001b[0;32m---> 34\u001b[0;31m \u001b[0mdraw_voronoi\u001b[0m\u001b[0;34m(\u001b[0m\u001b[0mtest_crop_uma\u001b[0m\u001b[0;34m)\u001b[0m\u001b[0;34m\u001b[0m\u001b[0m\n\u001b[0m\u001b[1;32m     35\u001b[0m \u001b[0mImage\u001b[0m\u001b[0;34m(\u001b[0m\u001b[0mfilename\u001b[0m\u001b[0;34m=\u001b[0m\u001b[0;34m'./results/result_voronoi_2.png'\u001b[0m\u001b[0;34m)\u001b[0m\u001b[0;34m\u001b[0m\u001b[0m\n",
      "\u001b[0;31mNameError\u001b[0m: name 'test_crop_uma' is not defined"
     ]
    }
   ],
   "source": [
    "def draw_voronoi(face_path):\n",
    " \n",
    "    image = cv2.imread(face_path)\n",
    "    rect = (0, 0, image.shape[1], image.shape[0])\n",
    "    img_voronoi = np.zeros(image.shape, dtype = image.dtype)\n",
    "\n",
    "    subdiv = cv2.Subdiv2D(rect)\n",
    "    \n",
    "    points = get_68_landmarks(face_path, None)\n",
    "    points = list(points)\n",
    "\n",
    "    for p in points:\n",
    "        subdiv.insert(tuple(p))\n",
    "\n",
    "    (facets, centers) = subdiv.getVoronoiFacetList([])\n",
    " \n",
    "    for i in xrange(0,len(facets)) :\n",
    "        ifacet_arr = []\n",
    "        for f in facets[i] :\n",
    "            ifacet_arr.append(f)\n",
    "         \n",
    "        ifacet = np.array(ifacet_arr, np.int)\n",
    "        \n",
    "#         color = (random.randint(0, 255), random.randint(0, 255), random.randint(0, 255))\n",
    "        color = (255, 255, 255)\n",
    " \n",
    "        cv2.fillConvexPoly(image, ifacet, color, cv2.CV_AA, 0);\n",
    "        ifacets = np.array([ifacet])\n",
    "        cv2.polylines(image, ifacets, True, (0, 0, 0), 1, cv2.CV_AA, 0)\n",
    "        cv2.circle(image, (centers[i][0], centers[i][1]), 1, (0, 0, 0), cv2.cv.CV_FILLED, cv2.CV_AA, 0)\n",
    "\n",
    "    cv2.imwrite('./results/result_voronoi_2.png', image)\n",
    "\n",
    "draw_voronoi(test_crop_uma)\n",
    "Image(filename='./results/result_voronoi_2.png')"
   ]
  },
  {
   "cell_type": "code",
   "execution_count": 10,
   "metadata": {},
   "outputs": [
    {
     "ename": "NameError",
     "evalue": "name 'Image' is not defined",
     "output_type": "error",
     "traceback": [
      "\u001b[0;31m---------------------------------------------------------------------------\u001b[0m",
      "\u001b[0;31mNameError\u001b[0m                                 Traceback (most recent call last)",
      "\u001b[0;32m<ipython-input-10-0dafee6352be>\u001b[0m in \u001b[0;36m<module>\u001b[0;34m()\u001b[0m\n\u001b[1;32m      7\u001b[0m \u001b[0mcv2\u001b[0m\u001b[0;34m.\u001b[0m\u001b[0mimwrite\u001b[0m\u001b[0;34m(\u001b[0m\u001b[0;34m\"./results/result_points_overlay.png\"\u001b[0m\u001b[0;34m,\u001b[0m \u001b[0moverlaid\u001b[0m\u001b[0;34m)\u001b[0m\u001b[0;34m\u001b[0m\u001b[0m\n\u001b[1;32m      8\u001b[0m \u001b[0;34m\u001b[0m\u001b[0m\n\u001b[0;32m----> 9\u001b[0;31m \u001b[0mImage\u001b[0m\u001b[0;34m(\u001b[0m\u001b[0mfilename\u001b[0m\u001b[0;34m=\u001b[0m\u001b[0;34m\"./results/result_points_overlay.png\"\u001b[0m\u001b[0;34m)\u001b[0m\u001b[0;34m\u001b[0m\u001b[0m\n\u001b[0m",
      "\u001b[0;31mNameError\u001b[0m: name 'Image' is not defined"
     ]
    }
   ],
   "source": [
    "img1 = cv2.imread(\"./results/result_voronoi_2.png\")\n",
    "img2 = cv2.imread(\"./results/result_tri.png\")\n",
    "\n",
    "# cv2.addWeighted(img1, alpha, img2, beta, gamma)\n",
    "overlaid = cv2.addWeighted(img1, 0.5, img2, 0.5, 1)\n",
    "\n",
    "cv2.imwrite(\"./results/result_points_overlay.png\", overlaid)\n",
    "\n",
    "Image(filename=\"./results/result_points_overlay.png\")"
   ]
  },
  {
   "cell_type": "code",
   "execution_count": 11,
   "metadata": {},
   "outputs": [
    {
     "data": {
      "text/plain": [
       "False"
      ]
     },
     "execution_count": 11,
     "metadata": {},
     "output_type": "execute_result"
    }
   ],
   "source": [
    "img1 = cv2.imread(\"./test_faces/crop_uma.png\")\n",
    "img2 = cv2.imread(\"./test_faces/crop_alt.png\")\n",
    "img3 = cv2.imread(\"./test_faces/crop_alt_2.png\")\n",
    "\n",
    "# cv2.addWeighted(img1, alpha, img2, beta, gamma)\n",
    "overlaid = cv2.addWeighted(img1, 0.5, img3, 0.5, 1)\n",
    "\n",
    "cv2.imwrite(\"./results/result_face_overlay.png\", overlaid)"
   ]
  },
  {
   "cell_type": "code",
   "execution_count": 12,
   "metadata": {},
   "outputs": [
    {
     "ename": "NameError",
     "evalue": "name 'Image' is not defined",
     "output_type": "error",
     "traceback": [
      "\u001b[0;31m---------------------------------------------------------------------------\u001b[0m",
      "\u001b[0;31mNameError\u001b[0m                                 Traceback (most recent call last)",
      "\u001b[0;32m<ipython-input-12-9711fab55385>\u001b[0m in \u001b[0;36m<module>\u001b[0;34m()\u001b[0m\n\u001b[1;32m      1\u001b[0m \u001b[0;31m# Aligned & Overlaid (no triangulation (the stupid way))\u001b[0m\u001b[0;34m\u001b[0m\u001b[0;34m\u001b[0m\u001b[0m\n\u001b[0;32m----> 2\u001b[0;31m \u001b[0mImage\u001b[0m\u001b[0;34m(\u001b[0m\u001b[0mfilename\u001b[0m\u001b[0;34m=\u001b[0m\u001b[0;34m\"./results/result_face_overlay.png\"\u001b[0m\u001b[0;34m)\u001b[0m\u001b[0;34m\u001b[0m\u001b[0m\n\u001b[0m",
      "\u001b[0;31mNameError\u001b[0m: name 'Image' is not defined"
     ]
    }
   ],
   "source": [
    "# Aligned & Overlaid (no triangulation (the stupid way))\n",
    "Image(filename=\"./results/result_face_overlay.png\")"
   ]
  },
  {
   "cell_type": "code",
   "execution_count": 13,
   "metadata": {},
   "outputs": [
    {
     "ename": "NameError",
     "evalue": "name 'pd' is not defined",
     "output_type": "error",
     "traceback": [
      "\u001b[0;31m---------------------------------------------------------------------------\u001b[0m",
      "\u001b[0;31mNameError\u001b[0m                                 Traceback (most recent call last)",
      "\u001b[0;32m<ipython-input-13-3e8e268fdc98>\u001b[0m in \u001b[0;36m<module>\u001b[0;34m()\u001b[0m\n\u001b[1;32m     93\u001b[0m                  \u001b[0;34m\"./test_faces/crop_3_3.png\"\u001b[0m\u001b[0;34m,\u001b[0m\u001b[0;34m\u001b[0m\u001b[0m\n\u001b[1;32m     94\u001b[0m                  \u001b[0;34m\"./test_faces/crop_3_4.png\"\u001b[0m\u001b[0;34m,\u001b[0m\u001b[0;34m\u001b[0m\u001b[0m\n\u001b[0;32m---> 95\u001b[0;31m                  \"./test_faces/crop_3_5.png\" ], [6, 8, 9, 4, 9], \"test\")\n\u001b[0m",
      "\u001b[0;32m<ipython-input-13-3e8e268fdc98>\u001b[0m in \u001b[0;36mget_avg_points\u001b[0;34m(images, weights, mode)\u001b[0m\n\u001b[1;32m     15\u001b[0m         \u001b[0mcols_y\u001b[0m\u001b[0;34m.\u001b[0m\u001b[0mappend\u001b[0m\u001b[0;34m(\u001b[0m\u001b[0;34m\"f_\"\u001b[0m \u001b[0;34m+\u001b[0m \u001b[0mstr\u001b[0m\u001b[0;34m(\u001b[0m\u001b[0mi\u001b[0m\u001b[0;34m)\u001b[0m \u001b[0;34m+\u001b[0m\u001b[0;34m\"_y\"\u001b[0m\u001b[0;34m)\u001b[0m\u001b[0;34m\u001b[0m\u001b[0m\n\u001b[1;32m     16\u001b[0m \u001b[0;34m\u001b[0m\u001b[0m\n\u001b[0;32m---> 17\u001b[0;31m     \u001b[0mall_points\u001b[0m \u001b[0;34m=\u001b[0m \u001b[0mpd\u001b[0m\u001b[0;34m.\u001b[0m\u001b[0mDataFrame\u001b[0m\u001b[0;34m(\u001b[0m\u001b[0mindex\u001b[0m \u001b[0;34m=\u001b[0m \u001b[0mindices\u001b[0m\u001b[0;34m,\u001b[0m \u001b[0mcolumns\u001b[0m \u001b[0;34m=\u001b[0m \u001b[0mcolumns\u001b[0m\u001b[0;34m)\u001b[0m\u001b[0;34m\u001b[0m\u001b[0m\n\u001b[0m\u001b[1;32m     18\u001b[0m \u001b[0;34m\u001b[0m\u001b[0m\n\u001b[1;32m     19\u001b[0m     \u001b[0;31m# Add Points To A Pandas Dataframe\u001b[0m\u001b[0;34m\u001b[0m\u001b[0;34m\u001b[0m\u001b[0m\n",
      "\u001b[0;31mNameError\u001b[0m: name 'pd' is not defined"
     ]
    }
   ],
   "source": [
    "def get_avg_points(images, weights, mode):\n",
    "#     print(mode + \" Mode\")\n",
    "\n",
    "    indices = range(0, 67)\n",
    "    columns = ['avg_x', 'avg_y', 'weighted_x', 'weighted_y']\n",
    "    weightsum = sum(weights)\n",
    "    cols_x = []\n",
    "    cols_y = []  \n",
    "    result = []\n",
    "    \n",
    "    for i in range(1, len(images) + 1):\n",
    "        columns.append(\"f_\" + str(i) +\"_x\")\n",
    "        cols_x.append(\"f_\" + str(i) +\"_x\")\n",
    "        columns.append(\"f_\" + str(i) +\"_y\")\n",
    "        cols_y.append(\"f_\" + str(i) +\"_y\")\n",
    "\n",
    "    all_points = pd.DataFrame(index = indices, columns = columns)\n",
    "\n",
    "    # Add Points To A Pandas Dataframe\n",
    "    for i in range(0, len(images)):\n",
    "        points = get_68_landmarks(images[i], None)\n",
    "        for point in indices:\n",
    "            all_points.iloc[point][\"f_\"+ str(i + 1) +\"_x\"] = points[point][0]\n",
    "            all_points.iloc[point][\"f_\"+ str(i + 1) +\"_y\"] = points[point][1]\n",
    "\n",
    "    # Get Average Coordinates\n",
    "    for point in indices:\n",
    "        xs = []\n",
    "        ys = []\n",
    "\n",
    "        for col in range(0, len(cols_x)): \n",
    "            xs.append(all_points.iloc[point][cols_x[col]])\n",
    "            ys.append(all_points.iloc[point][cols_y[col]])\n",
    "\n",
    "        avg_x = reduce(lambda x, y: x + y, xs) / float(len(xs))\n",
    "        avg_y = reduce(lambda x, y: x + y, ys) / float(len(ys))\n",
    "\n",
    "        all_points.iloc[point]['avg_x'] = avg_x\n",
    "        all_points.iloc[point]['avg_y'] = avg_y\n",
    "    \n",
    "    # Get Weighted Average Coordinates\n",
    "    for point in indices:\n",
    "        \n",
    "        xs = []\n",
    "        ys = []\n",
    "        wxs = []\n",
    "        wys = []\n",
    "\n",
    "        for col in range(0, len(cols_x)): \n",
    "            x = all_points.iloc[point][cols_x[col]]\n",
    "            y = all_points.iloc[point][cols_y[col]]\n",
    "            wt = weights[col]\n",
    "            \n",
    "            xs.append(x)\n",
    "            ys.append(y)\n",
    "            \n",
    "            wxs.append(x * wt)\n",
    "            wys.append(y * wt)\n",
    "                    \n",
    "        weighted_x = sum(wxs) / weightsum\n",
    "        weighted_y = sum(wys) / weightsum\n",
    "        \n",
    "        all_points.iloc[point]['weighted_x'] = weighted_x\n",
    "        all_points.iloc[point]['weighted_y'] = weighted_y\n",
    "        \n",
    "    if mode == 'test':   \n",
    "        plt.xkcd()\n",
    "        plt.figure(figsize=(20,20))\n",
    "        for el in range(1, len(images) + 1): \n",
    "            plt.scatter(all_points[\"f_\" + str(el) + \"_x\"], all_points[\"f_\" + str(el) + \"_y\"], c='b', s=10, label='data') # [BLUE]\n",
    "        plt.scatter(all_points[\"avg_x\"], all_points[\"avg_y\"], c='r', s=100, label='data') # AVERAGE POINTS   [RED]\n",
    "        plt.scatter(all_points[\"weighted_x\"], all_points[\"weighted_y\"], c='y', s=100, label='data') # AVERAGE POINTS   [RED]\n",
    "        plt.gca().invert_yaxis()\n",
    "        plt.show()\n",
    "    if mode == 'weighted':\n",
    "        for i in indices:\n",
    "            result.append((all_points.iloc[i][\"weighted_x\"], all_points.iloc[i][\"weighted_y\"],))\n",
    "        return result     \n",
    "    if mode == 'average':\n",
    "        for i in indices:\n",
    "            result.append((all_points.iloc[i][\"avg_x\"], all_points.iloc[i][\"avg_y\"],))\n",
    "        return result\n",
    "\n",
    "\n",
    "# get_avg_points([ \"./test_faces/crop_3_1.png\", \n",
    "#                  \"./test_faces/crop_3_2.png\", \n",
    "#                  \"./test_faces/crop_3_3.png\", \n",
    "#                  \"./test_faces/crop_3_4.png\", \n",
    "#                  \"./test_faces/crop_3_5.png\" ], None, \"average\")\n",
    "\n",
    "get_avg_points([ \"./test_faces/crop_3_1.png\", \n",
    "                 \"./test_faces/crop_3_2.png\", \n",
    "                 \"./test_faces/crop_3_3.png\", \n",
    "                 \"./test_faces/crop_3_4.png\", \n",
    "                 \"./test_faces/crop_3_5.png\" ], [6, 8, 9, 4, 9], \"test\")"
   ]
  },
  {
   "cell_type": "code",
   "execution_count": 14,
   "metadata": {},
   "outputs": [
    {
     "ename": "NameError",
     "evalue": "name 'face_frame' is not defined",
     "output_type": "error",
     "traceback": [
      "\u001b[0;31m---------------------------------------------------------------------------\u001b[0m",
      "\u001b[0;31mNameError\u001b[0m                                 Traceback (most recent call last)",
      "\u001b[0;32m<ipython-input-14-3074040bc6b6>\u001b[0m in \u001b[0;36m<module>\u001b[0;34m()\u001b[0m\n\u001b[1;32m      1\u001b[0m \u001b[0mimage\u001b[0m \u001b[0;34m=\u001b[0m \u001b[0mcv2\u001b[0m\u001b[0;34m.\u001b[0m\u001b[0mimread\u001b[0m\u001b[0;34m(\u001b[0m\u001b[0;34m\"./results/result_face_overlay.png\"\u001b[0m\u001b[0;34m)\u001b[0m\u001b[0;34m\u001b[0m\u001b[0m\n\u001b[1;32m      2\u001b[0m \u001b[0;34m\u001b[0m\u001b[0m\n\u001b[0;32m----> 3\u001b[0;31m \u001b[0;32mfor\u001b[0m \u001b[0mrow\u001b[0m \u001b[0;32min\u001b[0m \u001b[0mrange\u001b[0m\u001b[0;34m(\u001b[0m\u001b[0;36m0\u001b[0m\u001b[0;34m,\u001b[0m \u001b[0mface_frame\u001b[0m\u001b[0;34m.\u001b[0m\u001b[0mshape\u001b[0m\u001b[0;34m[\u001b[0m\u001b[0;36m0\u001b[0m\u001b[0;34m]\u001b[0m\u001b[0;34m)\u001b[0m\u001b[0;34m:\u001b[0m\u001b[0;34m\u001b[0m\u001b[0m\n\u001b[0m\u001b[1;32m      4\u001b[0m     \u001b[0mcv2\u001b[0m\u001b[0;34m.\u001b[0m\u001b[0mcircle\u001b[0m\u001b[0;34m(\u001b[0m\u001b[0mimage\u001b[0m\u001b[0;34m,\u001b[0m \u001b[0;34m(\u001b[0m\u001b[0mface_frame\u001b[0m\u001b[0;34m.\u001b[0m\u001b[0miloc\u001b[0m\u001b[0;34m[\u001b[0m\u001b[0mrow\u001b[0m\u001b[0;34m]\u001b[0m\u001b[0;34m[\u001b[0m\u001b[0;34m\"f_1_x\"\u001b[0m\u001b[0;34m]\u001b[0m\u001b[0;34m,\u001b[0m \u001b[0mface_frame\u001b[0m\u001b[0;34m.\u001b[0m\u001b[0miloc\u001b[0m\u001b[0;34m[\u001b[0m\u001b[0mrow\u001b[0m\u001b[0;34m]\u001b[0m\u001b[0;34m[\u001b[0m\u001b[0;34m\"f_1_y\"\u001b[0m\u001b[0;34m]\u001b[0m\u001b[0;34m)\u001b[0m\u001b[0;34m,\u001b[0m \u001b[0;36m2\u001b[0m\u001b[0;34m,\u001b[0m \u001b[0;34m(\u001b[0m\u001b[0;36m255\u001b[0m\u001b[0;34m,\u001b[0m \u001b[0;36m0\u001b[0m\u001b[0;34m,\u001b[0m \u001b[0;36m0\u001b[0m\u001b[0;34m)\u001b[0m\u001b[0;34m,\u001b[0m \u001b[0;34m-\u001b[0m\u001b[0;36m1\u001b[0m\u001b[0;34m)\u001b[0m\u001b[0;34m\u001b[0m\u001b[0m\n\u001b[1;32m      5\u001b[0m     \u001b[0mcv2\u001b[0m\u001b[0;34m.\u001b[0m\u001b[0mcircle\u001b[0m\u001b[0;34m(\u001b[0m\u001b[0mimage\u001b[0m\u001b[0;34m,\u001b[0m \u001b[0;34m(\u001b[0m\u001b[0mface_frame\u001b[0m\u001b[0;34m.\u001b[0m\u001b[0miloc\u001b[0m\u001b[0;34m[\u001b[0m\u001b[0mrow\u001b[0m\u001b[0;34m]\u001b[0m\u001b[0;34m[\u001b[0m\u001b[0;34m\"f_2_x\"\u001b[0m\u001b[0;34m]\u001b[0m\u001b[0;34m,\u001b[0m \u001b[0mface_frame\u001b[0m\u001b[0;34m.\u001b[0m\u001b[0miloc\u001b[0m\u001b[0;34m[\u001b[0m\u001b[0mrow\u001b[0m\u001b[0;34m]\u001b[0m\u001b[0;34m[\u001b[0m\u001b[0;34m\"f_2_y\"\u001b[0m\u001b[0;34m]\u001b[0m\u001b[0;34m)\u001b[0m\u001b[0;34m,\u001b[0m \u001b[0;36m2\u001b[0m\u001b[0;34m,\u001b[0m \u001b[0;34m(\u001b[0m\u001b[0;36m0\u001b[0m\u001b[0;34m,\u001b[0m \u001b[0;36m0\u001b[0m\u001b[0;34m,\u001b[0m \u001b[0;36m255\u001b[0m\u001b[0;34m)\u001b[0m\u001b[0;34m,\u001b[0m \u001b[0;34m-\u001b[0m\u001b[0;36m1\u001b[0m\u001b[0;34m)\u001b[0m\u001b[0;34m\u001b[0m\u001b[0m\n",
      "\u001b[0;31mNameError\u001b[0m: name 'face_frame' is not defined"
     ]
    }
   ],
   "source": [
    "image = cv2.imread(\"./results/result_face_overlay.png\")\n",
    "\n",
    "for row in range(0, face_frame.shape[0]):\n",
    "    cv2.circle(image, (face_frame.iloc[row][\"f_1_x\"], face_frame.iloc[row][\"f_1_y\"]), 2, (255, 0, 0), -1)\n",
    "    cv2.circle(image, (face_frame.iloc[row][\"f_2_x\"], face_frame.iloc[row][\"f_2_y\"]), 2, (0, 0, 255), -1)\n",
    "    cv2.circle(image, (face_frame.iloc[row][\"avg_x\"], face_frame.iloc[row][\"avg_y\"]), 2, (0, 255, 0), -1)\n",
    "    \n",
    "cv2.imwrite(\"./results/result_face_overlay_points.png\", image)\n",
    "\n",
    "Image(filename=\"./results/result_face_overlay_points.png\")"
   ]
  },
  {
   "cell_type": "code",
   "execution_count": 15,
   "metadata": {},
   "outputs": [
    {
     "ename": "NameError",
     "evalue": "name 'np' is not defined",
     "output_type": "error",
     "traceback": [
      "\u001b[0;31m---------------------------------------------------------------------------\u001b[0m",
      "\u001b[0;31mNameError\u001b[0m                                 Traceback (most recent call last)",
      "\u001b[0;32m<ipython-input-15-bcfe8b1aed02>\u001b[0m in \u001b[0;36m<module>\u001b[0;34m()\u001b[0m\n\u001b[1;32m    108\u001b[0m \u001b[0;34m\u001b[0m\u001b[0m\n\u001b[1;32m    109\u001b[0m \u001b[0;31m# morph_files = make_morph(test_crop_uma, test_crop_alt_2, 1)\u001b[0m\u001b[0;34m\u001b[0m\u001b[0;34m\u001b[0m\u001b[0m\n\u001b[0;32m--> 110\u001b[0;31m \u001b[0mmorph_files\u001b[0m \u001b[0;34m=\u001b[0m \u001b[0mmake_morph\u001b[0m\u001b[0;34m(\u001b[0m\u001b[0;34m'./test_faces/crop_3_1.png'\u001b[0m\u001b[0;34m,\u001b[0m \u001b[0;34m'./test_faces/crop_3_2.png'\u001b[0m\u001b[0;34m,\u001b[0m \u001b[0;36m10\u001b[0m\u001b[0;34m)\u001b[0m\u001b[0;34m\u001b[0m\u001b[0m\n\u001b[0m\u001b[1;32m    111\u001b[0m \u001b[0;34m\u001b[0m\u001b[0m\n\u001b[1;32m    112\u001b[0m \u001b[0mimages\u001b[0m \u001b[0;34m=\u001b[0m \u001b[0;34m[\u001b[0m\u001b[0;34m]\u001b[0m\u001b[0;34m\u001b[0m\u001b[0m\n",
      "\u001b[0;32m<ipython-input-15-bcfe8b1aed02>\u001b[0m in \u001b[0;36mmake_morph\u001b[0;34m(file1, file2, frames)\u001b[0m\n\u001b[1;32m     53\u001b[0m     \u001b[0mimg2\u001b[0m \u001b[0;34m=\u001b[0m \u001b[0mcv2\u001b[0m\u001b[0;34m.\u001b[0m\u001b[0mimread\u001b[0m\u001b[0;34m(\u001b[0m\u001b[0mfile2\u001b[0m\u001b[0;34m)\u001b[0m\u001b[0;34m\u001b[0m\u001b[0m\n\u001b[1;32m     54\u001b[0m \u001b[0;34m\u001b[0m\u001b[0m\n\u001b[0;32m---> 55\u001b[0;31m     \u001b[0mimg1\u001b[0m \u001b[0;34m=\u001b[0m \u001b[0mnp\u001b[0m\u001b[0;34m.\u001b[0m\u001b[0mfloat32\u001b[0m\u001b[0;34m(\u001b[0m\u001b[0mimg1\u001b[0m\u001b[0;34m)\u001b[0m\u001b[0;34m\u001b[0m\u001b[0m\n\u001b[0m\u001b[1;32m     56\u001b[0m     \u001b[0mimg2\u001b[0m \u001b[0;34m=\u001b[0m \u001b[0mnp\u001b[0m\u001b[0;34m.\u001b[0m\u001b[0mfloat32\u001b[0m\u001b[0;34m(\u001b[0m\u001b[0mimg2\u001b[0m\u001b[0;34m)\u001b[0m\u001b[0;34m\u001b[0m\u001b[0m\n\u001b[1;32m     57\u001b[0m     \u001b[0mimgx\u001b[0m \u001b[0;34m=\u001b[0m \u001b[0mnp\u001b[0m\u001b[0;34m.\u001b[0m\u001b[0mfloat32\u001b[0m\u001b[0;34m(\u001b[0m\u001b[0mcv2\u001b[0m\u001b[0;34m.\u001b[0m\u001b[0mimread\u001b[0m\u001b[0;34m(\u001b[0m\u001b[0;34m'./test_faces/blank500.png'\u001b[0m\u001b[0;34m)\u001b[0m\u001b[0;34m)\u001b[0m \u001b[0;31m# blank image\u001b[0m\u001b[0;34m\u001b[0m\u001b[0m\n",
      "\u001b[0;31mNameError\u001b[0m: name 'np' is not defined"
     ]
    }
   ],
   "source": [
    "# Apply affine transform calculated using srcTri and dstTri to src and output an image of size.\n",
    "def applyAffineTransform(src, srcTri, dstTri, size):\n",
    "    \n",
    "    # Given a pair of triangles, find the affine transform.\n",
    "    warpMat = cv2.getAffineTransform(np.float32(srcTri), np.float32(dstTri))\n",
    "    \n",
    "    # Apply the Affine Transform just found to the src image\n",
    "    dst = cv2.warpAffine(src, warpMat, (size[0], size[1]), None, flags=cv2.INTER_LINEAR, borderMode=cv2.BORDER_REFLECT_101)\n",
    "\n",
    "    return dst\n",
    "\n",
    "\n",
    "# Warps and alpha blends triangular regions from img1 and img2 to img\n",
    "def morphTriangle(img1, img2, img, t1, t2, t, alpha):\n",
    "\n",
    "    # Find bounding rectangle for each triangle\n",
    "    r1 = cv2.boundingRect(np.float32([t1]))\n",
    "    r2 = cv2.boundingRect(np.float32([t2]))\n",
    "    r = cv2.boundingRect(np.float32([t]))\n",
    "\n",
    "    # Offset points by left top corner of the respective rectangles\n",
    "    t1Rect = []\n",
    "    t2Rect = []\n",
    "    tRect = []\n",
    "\n",
    "    for i in range(0, 3):\n",
    "        tRect.append(((t[i][0] - r[0]),(t[i][1] - r[1])))\n",
    "        t1Rect.append(((t1[i][0] - r1[0]),(t1[i][1] - r1[1])))\n",
    "        t2Rect.append(((t2[i][0] - r2[0]),(t2[i][1] - r2[1])))\n",
    "\n",
    "    # Get mask by filling triangle\n",
    "    mask = np.zeros((r[3], r[2],3), dtype = np.float32)\n",
    "    cv2.fillConvexPoly(mask, np.int32(tRect), (1.0, 1.0, 1.0), 16, 0);\n",
    "\n",
    "    # Apply warpImage to small rectangular patches\n",
    "    img1Rect = img1[r1[1]:r1[1] + r1[3], r1[0]:r1[0] + r1[2]]\n",
    "    img2Rect = img2[r2[1]:r2[1] + r2[3], r2[0]:r2[0] + r2[2]]\n",
    "\n",
    "    size = (r[2], r[3])\n",
    "    warpImage1 = applyAffineTransform(img1Rect, t1Rect, tRect, size)\n",
    "    warpImage2 = applyAffineTransform(img2Rect, t2Rect, tRect, size)\n",
    "\n",
    "    # Alpha blend rectangular patches\n",
    "    imgRect = (1.0 - alpha) * warpImage1 + alpha * warpImage2\n",
    "    \n",
    "    # Copy triangular region of the rectangular patch to the output image\n",
    "    img[r[1]:r[1]+r[3], r[0]:r[0]+r[2]] = img[r[1]:r[1]+r[3], r[0]:r[0]+r[2]] * ( 1 - mask ) + imgRect * mask\n",
    "\n",
    "\n",
    "def make_morph(file1, file2, frames):\n",
    "\n",
    "    img1 = cv2.imread(file1)\n",
    "    img2 = cv2.imread(file2)\n",
    "\n",
    "    img1 = np.float32(img1)\n",
    "    img2 = np.float32(img2)\n",
    "    imgx = np.float32(cv2.imread('./test_faces/blank500.png')) # blank image\n",
    "\n",
    "    points1 = get_68_landmarks(file1, None)\n",
    "    points2 = get_68_landmarks(file2, None)\n",
    "    \n",
    "    filenames = []\n",
    "    \n",
    "    for frame in range(0, frames):\n",
    "        \n",
    "        points3 = [] # weighted avg points\n",
    "        \n",
    "        alpha = float(1 / float(frames)) * float(frame)\n",
    "\n",
    "        for i in range(0, len(points1)):\n",
    "            x = ( 1 - alpha ) * points1[i][0] + alpha * points2[i][0]\n",
    "            y = ( 1 - alpha ) * points1[i][1] + alpha * points2[i][1]\n",
    "            points3.append((int(x),int(y)))\n",
    "\n",
    "        imgMorph = np.zeros(img1.shape, dtype = img1.dtype)\n",
    "\n",
    "        rect = (0, 0, img1.shape[1], img1.shape[0])\n",
    "\n",
    "        subdiv = cv2.Subdiv2D(rect);\n",
    "\n",
    "        for p in points3:\n",
    "            subdiv.insert(p)\n",
    "\n",
    "        triangleList = subdiv.getTriangleList();\n",
    "\n",
    "        for line in triangleList:\n",
    "\n",
    "            x = [ int(line[0]), int(line[1]) ]\n",
    "            y = [ int(line[2]), int(line[3]) ]\n",
    "            z = [ int(line[4]), int(line[5]) ]\n",
    "\n",
    "            if rect_contains(rect, x) and rect_contains(rect, y) and rect_contains(rect, z):\n",
    "                \n",
    "                i_3_x = points3.index((x[0], x[1]))\n",
    "                i_3_y = points3.index((y[0], y[1]))\n",
    "                i_3_z = points3.index((z[0], z[1]))\n",
    "\n",
    "                t1 = [ points1[i_3_x], points1[i_3_y], points1[i_3_z] ]\n",
    "                t2 = [ points2[i_3_x], points2[i_3_y], points2[i_3_z] ]\n",
    "                t3 = [ points3[i_3_x], points3[i_3_y], points3[i_3_z] ] # Weighted Avg Point Triangle\n",
    "\n",
    "                morphTriangle(img1, img2, imgMorph, t1, t2, t3, alpha)\n",
    "        \n",
    "        filenames.append(\"./results/gif/result_face_merge_\" + str(frame) + \".png\")\n",
    "        cv2.imwrite(\"./results/gif/result_face_merge_\" + str(frame) + \".png\", imgMorph)\n",
    "\n",
    "    return filenames\n",
    "\n",
    "# morph_files = make_morph(test_crop_uma, test_crop_alt_2, 1)\n",
    "morph_files = make_morph('./test_faces/crop_3_1.png', './test_faces/crop_3_2.png', 10)\n",
    "\n",
    "images = []\n",
    "filenames = morph_files\n",
    "\n",
    "for filename in filenames:\n",
    "    images.append(imageio.imread(filename)) \n",
    "\n",
    "print(len(images))\n",
    "\n",
    "imageio.mimsave('./results/gif/movie.gif', images)\n",
    "\n"
   ]
  },
  {
   "cell_type": "code",
   "execution_count": 16,
   "metadata": {},
   "outputs": [
    {
     "ename": "NameError",
     "evalue": "name 'HTML' is not defined",
     "output_type": "error",
     "traceback": [
      "\u001b[0;31m---------------------------------------------------------------------------\u001b[0m",
      "\u001b[0;31mNameError\u001b[0m                                 Traceback (most recent call last)",
      "\u001b[0;32m<ipython-input-16-12673ef841f4>\u001b[0m in \u001b[0;36m<module>\u001b[0;34m()\u001b[0m\n\u001b[0;32m----> 1\u001b[0;31m \u001b[0mHTML\u001b[0m\u001b[0;34m(\u001b[0m\u001b[0;34m'<img id=\"moviegif\" src=\"./results/gif/movie.gif\">'\u001b[0m\u001b[0;34m)\u001b[0m\u001b[0;34m\u001b[0m\u001b[0m\n\u001b[0m",
      "\u001b[0;31mNameError\u001b[0m: name 'HTML' is not defined"
     ]
    }
   ],
   "source": [
    "HTML('<img id=\"moviegif\" src=\"./results/gif/movie.gif\">')"
   ]
  },
  {
   "cell_type": "code",
   "execution_count": 17,
   "metadata": {},
   "outputs": [
    {
     "ename": "NameError",
     "evalue": "name 'Image' is not defined",
     "output_type": "error",
     "traceback": [
      "\u001b[0;31m---------------------------------------------------------------------------\u001b[0m",
      "\u001b[0;31mNameError\u001b[0m                                 Traceback (most recent call last)",
      "\u001b[0;32m<ipython-input-17-648f861e1791>\u001b[0m in \u001b[0;36m<module>\u001b[0;34m()\u001b[0m\n\u001b[1;32m      9\u001b[0m \u001b[0mweights\u001b[0m \u001b[0;34m=\u001b[0m \u001b[0;34m[\u001b[0m\u001b[0;36m1\u001b[0m\u001b[0;34m,\u001b[0m \u001b[0;36m1\u001b[0m\u001b[0;34m,\u001b[0m \u001b[0;36m10\u001b[0m\u001b[0;34m,\u001b[0m \u001b[0;36m1\u001b[0m\u001b[0;34m,\u001b[0m \u001b[0;36m1\u001b[0m\u001b[0;34m]\u001b[0m \u001b[0;31m# the 1-10 scale\u001b[0m\u001b[0;34m\u001b[0m\u001b[0m\n\u001b[1;32m     10\u001b[0m \u001b[0;34m\u001b[0m\u001b[0m\n\u001b[0;32m---> 11\u001b[0;31m \u001b[0mImage\u001b[0m\u001b[0;34m(\u001b[0m\u001b[0mfilename\u001b[0m\u001b[0;34m=\u001b[0m\u001b[0;34m\"./test_faces/weightedmergeexamples.jpg\"\u001b[0m\u001b[0;34m)\u001b[0m\u001b[0;34m\u001b[0m\u001b[0m\n\u001b[0m",
      "\u001b[0;31mNameError\u001b[0m: name 'Image' is not defined"
     ]
    }
   ],
   "source": [
    "img_1 = './test_faces/crop_3_1.png'\n",
    "img_2 = './test_faces/crop_3_2.png'\n",
    "img_3 = './test_faces/crop_3_3.png'\n",
    "img_4 = './test_faces/crop_3_4.png'\n",
    "img_5 = './test_faces/crop_3_5.png'\n",
    "\n",
    "filenames = [ img_1, img_2, img_3, img_4, img_5 ]\n",
    "\n",
    "weights = [1, 1, 10, 1, 1] # the 1-10 scale\n",
    "\n",
    "Image(filename=\"./test_faces/weightedmergeexamples.jpg\")"
   ]
  },
  {
   "cell_type": "code",
   "execution_count": 18,
   "metadata": {},
   "outputs": [
    {
     "ename": "NameError",
     "evalue": "name 'pd' is not defined",
     "output_type": "error",
     "traceback": [
      "\u001b[0;31m---------------------------------------------------------------------------\u001b[0m",
      "\u001b[0;31mNameError\u001b[0m                                 Traceback (most recent call last)",
      "\u001b[0;32m<ipython-input-18-21ceb0544d11>\u001b[0m in \u001b[0;36m<module>\u001b[0;34m()\u001b[0m\n\u001b[1;32m    103\u001b[0m     \u001b[0mcv2\u001b[0m\u001b[0;34m.\u001b[0m\u001b[0mimwrite\u001b[0m\u001b[0;34m(\u001b[0m\u001b[0;34m\"./results/gif/result_merge_\"\u001b[0m \u001b[0;34m+\u001b[0m \u001b[0mratingStr\u001b[0m \u001b[0;34m+\u001b[0m \u001b[0;34m\".png\"\u001b[0m\u001b[0;34m,\u001b[0m \u001b[0mimgx\u001b[0m\u001b[0;34m)\u001b[0m\u001b[0;34m\u001b[0m\u001b[0m\n\u001b[1;32m    104\u001b[0m \u001b[0;34m\u001b[0m\u001b[0m\n\u001b[0;32m--> 105\u001b[0;31m \u001b[0mmake_weighted_combo\u001b[0m\u001b[0;34m(\u001b[0m\u001b[0mfilenames\u001b[0m\u001b[0;34m,\u001b[0m \u001b[0mweights\u001b[0m\u001b[0;34m)\u001b[0m\u001b[0;34m\u001b[0m\u001b[0m\n\u001b[0m",
      "\u001b[0;32m<ipython-input-18-21ceb0544d11>\u001b[0m in \u001b[0;36mmake_weighted_combo\u001b[0;34m(filenames, weights)\u001b[0m\n\u001b[1;32m      5\u001b[0m     \u001b[0mresult_files\u001b[0m \u001b[0;34m=\u001b[0m \u001b[0;34m[\u001b[0m\u001b[0;34m]\u001b[0m\u001b[0;34m\u001b[0m\u001b[0m\n\u001b[1;32m      6\u001b[0m \u001b[0;34m\u001b[0m\u001b[0m\n\u001b[0;32m----> 7\u001b[0;31m     \u001b[0mavg_points\u001b[0m \u001b[0;34m=\u001b[0m \u001b[0mget_avg_points\u001b[0m\u001b[0;34m(\u001b[0m\u001b[0mfilenames\u001b[0m\u001b[0;34m,\u001b[0m \u001b[0mweights\u001b[0m\u001b[0;34m,\u001b[0m \u001b[0;34m'weighted'\u001b[0m\u001b[0;34m)\u001b[0m\u001b[0;34m\u001b[0m\u001b[0m\n\u001b[0m\u001b[1;32m      8\u001b[0m \u001b[0;34m\u001b[0m\u001b[0m\n\u001b[1;32m      9\u001b[0m     \u001b[0mimgx\u001b[0m \u001b[0;34m=\u001b[0m \u001b[0mnp\u001b[0m\u001b[0;34m.\u001b[0m\u001b[0mfloat32\u001b[0m\u001b[0;34m(\u001b[0m\u001b[0mcv2\u001b[0m\u001b[0;34m.\u001b[0m\u001b[0mimread\u001b[0m\u001b[0;34m(\u001b[0m\u001b[0;34m'./test_faces/blank500.png'\u001b[0m\u001b[0;34m,\u001b[0m \u001b[0mcv2\u001b[0m\u001b[0;34m.\u001b[0m\u001b[0mIMREAD_UNCHANGED\u001b[0m\u001b[0;34m)\u001b[0m\u001b[0;34m)\u001b[0m \u001b[0;31m# blank image\u001b[0m\u001b[0;34m\u001b[0m\u001b[0m\n",
      "\u001b[0;32m<ipython-input-13-3e8e268fdc98>\u001b[0m in \u001b[0;36mget_avg_points\u001b[0;34m(images, weights, mode)\u001b[0m\n\u001b[1;32m     15\u001b[0m         \u001b[0mcols_y\u001b[0m\u001b[0;34m.\u001b[0m\u001b[0mappend\u001b[0m\u001b[0;34m(\u001b[0m\u001b[0;34m\"f_\"\u001b[0m \u001b[0;34m+\u001b[0m \u001b[0mstr\u001b[0m\u001b[0;34m(\u001b[0m\u001b[0mi\u001b[0m\u001b[0;34m)\u001b[0m \u001b[0;34m+\u001b[0m\u001b[0;34m\"_y\"\u001b[0m\u001b[0;34m)\u001b[0m\u001b[0;34m\u001b[0m\u001b[0m\n\u001b[1;32m     16\u001b[0m \u001b[0;34m\u001b[0m\u001b[0m\n\u001b[0;32m---> 17\u001b[0;31m     \u001b[0mall_points\u001b[0m \u001b[0;34m=\u001b[0m \u001b[0mpd\u001b[0m\u001b[0;34m.\u001b[0m\u001b[0mDataFrame\u001b[0m\u001b[0;34m(\u001b[0m\u001b[0mindex\u001b[0m \u001b[0;34m=\u001b[0m \u001b[0mindices\u001b[0m\u001b[0;34m,\u001b[0m \u001b[0mcolumns\u001b[0m \u001b[0;34m=\u001b[0m \u001b[0mcolumns\u001b[0m\u001b[0;34m)\u001b[0m\u001b[0;34m\u001b[0m\u001b[0m\n\u001b[0m\u001b[1;32m     18\u001b[0m \u001b[0;34m\u001b[0m\u001b[0m\n\u001b[1;32m     19\u001b[0m     \u001b[0;31m# Add Points To A Pandas Dataframe\u001b[0m\u001b[0;34m\u001b[0m\u001b[0;34m\u001b[0m\u001b[0m\n",
      "\u001b[0;31mNameError\u001b[0m: name 'pd' is not defined"
     ]
    }
   ],
   "source": [
    "def make_weighted_combo(filenames, weights):\n",
    "\n",
    "    filecount = len(filenames)\n",
    "    \n",
    "    result_files = []\n",
    "    \n",
    "    avg_points = get_avg_points(filenames, weights, 'weighted')\n",
    "\n",
    "    imgx = np.float32(cv2.imread('./test_faces/blank500.png', cv2.IMREAD_UNCHANGED)) # blank image\n",
    "\n",
    "    print(weights, filecount)\n",
    "    \n",
    "    for i in range(0, len(filenames)):\n",
    "        \n",
    "        print(i)\n",
    "        \n",
    "        file = filenames[i]\n",
    "        weight = float(weights[i]) / float(sum(weights))\n",
    "        \n",
    "        print(file, weight) \n",
    "        \n",
    "        img = cv2.imread(file) # , cv2.IMREAD_UNCHANGED\n",
    "        img = np.float32(img)\n",
    "        \n",
    "        print(type(img))\n",
    "\n",
    "        points = get_68_landmarks(file, None)\n",
    "\n",
    "        imgMorph = np.zeros(img.shape, dtype = img.dtype)\n",
    "\n",
    "        rect = (0, 0, img.shape[1], img.shape[0])\n",
    "        subdiv = cv2.Subdiv2D(rect);\n",
    "\n",
    "        for p in avg_points:\n",
    "            subdiv.insert(p)\n",
    "\n",
    "        triangleList = subdiv.getTriangleList();\n",
    "\n",
    "        for line in triangleList:\n",
    "\n",
    "            x = [ int(line[0]), int(line[1]) ]\n",
    "            y = [ int(line[2]), int(line[3]) ]\n",
    "            z = [ int(line[4]), int(line[5]) ]\n",
    "\n",
    "            if rect_contains(rect, x) and rect_contains(rect, y) and rect_contains(rect, z):\n",
    "\n",
    "                i_3_x = avg_points.index((x[0], x[1]))\n",
    "                i_3_y = avg_points.index((y[0], y[1]))\n",
    "                i_3_z = avg_points.index((z[0], z[1]))\n",
    "\n",
    "                t1 = [ points[i_3_x], points[i_3_y], points[i_3_z] ]\n",
    "                ta = [ avg_points[i_3_x], avg_points[i_3_y], avg_points[i_3_z] ]\n",
    "                \n",
    "                # Find bounding rectangle for each triangle\n",
    "                r1 = cv2.boundingRect(np.float32([t1]))\n",
    "                ra = cv2.boundingRect(np.float32([ta]))\n",
    "\n",
    "                # Offset points by left top corner of the respective rectangles\n",
    "                t1Rect = []\n",
    "                taRect = []\n",
    "\n",
    "                for c in range(0, 3):\n",
    "                    taRect.append(((ta[c][0] - ra[0]),(ta[c][1] - ra[1])))\n",
    "                    t1Rect.append(((t1[c][0] - r1[0]),(t1[c][1] - r1[1])))\n",
    "\n",
    "                # Get mask by filling triangle\n",
    "                mask = np.zeros((ra[3], ra[2], 3), dtype = np.float32)\n",
    "                cv2.fillConvexPoly(mask, np.int32(taRect), (1.0, 1.0, 1.0), 16, 0);\n",
    "\n",
    "                # Apply warpImage to small rectangular patches\n",
    "                img1Rect = img[r1[1]:r1[1] + r1[3], r1[0]:r1[0] + r1[2]]\n",
    "\n",
    "                size = (ra[2], ra[3])\n",
    "                warpImage1 = applyAffineTransform(img1Rect, t1Rect, taRect, size)\n",
    "\n",
    "                # Alpha blend rectangular patches\n",
    "                imgRect = warpImage1 # * weight\n",
    "                \n",
    "                # Copy triangular region of the rectangular patch to the output image\n",
    "                imgMorph[ra[1]:ra[1]+ra[3], ra[0]:ra[0]+ra[2]] = imgMorph[ra[1]:ra[1]+ra[3], ra[0]:ra[0]+ra[2]] * ( 1 - mask ) + imgRect * mask\n",
    "        \n",
    "        # Remove Black Background\n",
    "        tmp = cv2.cvtColor(imgMorph, cv2.COLOR_BGR2GRAY)\n",
    "        _,alpha = cv2.threshold(tmp, 0, 255, cv2.THRESH_BINARY)\n",
    "        b, g, r = cv2.split(imgMorph)\n",
    "        rgba = [b,g,r, alpha]\n",
    "        dst = cv2.merge(rgba, 4)\n",
    "        imgMorph = dst\n",
    "        \n",
    "        # Make transparent \n",
    "        blank = cv2.imread('./test_faces/blank500.png', cv2.IMREAD_UNCHANGED)\n",
    "        alpha = weight\n",
    "        imgMorph = cv2.addWeighted(imgMorph, alpha, blank, 1 - alpha, 0, blank, dtype=cv2.CV_64F)\n",
    "        \n",
    "        # Add to result image\n",
    "        imgx = cv2.add(imgx, imgMorph, dtype=cv2.CV_64F)\n",
    "        \n",
    "        result_files.append(\"./results/gif/result_multi_face_merge\" + str(i) + \".png\")   \n",
    "        cv2.imwrite(\"./results/gif/result_multi_face_merge\" + str(i) + \".png\", imgMorph)\n",
    "    \n",
    "    print(result_files)\n",
    "    ratingStr = str(weights[0]) + '-' + str(weights[1]) + '-' + str(weights[2]) + '-' + str(weights[3]) + '-' + str(weights[4])\n",
    "    cv2.imwrite(\"./results/gif/result_merge_\" + ratingStr + \".png\", imgx)\n",
    "\n",
    "make_weighted_combo(filenames, weights)"
   ]
  },
  {
   "cell_type": "code",
   "execution_count": 19,
   "metadata": {},
   "outputs": [
    {
     "name": "stdout",
     "output_type": "stream",
     "text": [
      "ratings:  10-1-1-10-1\n"
     ]
    },
    {
     "ename": "NameError",
     "evalue": "name 'Image' is not defined",
     "output_type": "error",
     "traceback": [
      "\u001b[0;31m---------------------------------------------------------------------------\u001b[0m",
      "\u001b[0;31mNameError\u001b[0m                                 Traceback (most recent call last)",
      "\u001b[0;32m<ipython-input-19-ef46eafbbfb5>\u001b[0m in \u001b[0;36m<module>\u001b[0;34m()\u001b[0m\n\u001b[1;32m      1\u001b[0m \u001b[0mratings\u001b[0m \u001b[0;34m=\u001b[0m \u001b[0;34m'10-1-1-10-1'\u001b[0m\u001b[0;34m\u001b[0m\u001b[0m\n\u001b[1;32m      2\u001b[0m \u001b[0mprint\u001b[0m\u001b[0;34m(\u001b[0m\u001b[0;34m'ratings: '\u001b[0m\u001b[0;34m,\u001b[0m \u001b[0mratings\u001b[0m\u001b[0;34m)\u001b[0m\u001b[0;34m\u001b[0m\u001b[0m\n\u001b[0;32m----> 3\u001b[0;31m \u001b[0mImage\u001b[0m\u001b[0;34m(\u001b[0m\u001b[0mfilename\u001b[0m\u001b[0;34m=\u001b[0m\u001b[0;34m'./results/gif/result_merge_'\u001b[0m \u001b[0;34m+\u001b[0m \u001b[0mratings\u001b[0m \u001b[0;34m+\u001b[0m \u001b[0;34m'.png'\u001b[0m\u001b[0;34m)\u001b[0m\u001b[0;34m\u001b[0m\u001b[0m\n\u001b[0m",
      "\u001b[0;31mNameError\u001b[0m: name 'Image' is not defined"
     ]
    }
   ],
   "source": [
    "ratings = '10-1-1-10-1'\n",
    "print('ratings: ', ratings)\n",
    "Image(filename='./results/gif/result_merge_' + ratings + '.png')"
   ]
  },
  {
   "cell_type": "code",
   "execution_count": 20,
   "metadata": {},
   "outputs": [
    {
     "name": "stdout",
     "output_type": "stream",
     "text": [
      "ratings:  1-10-5-1-5\n"
     ]
    },
    {
     "ename": "NameError",
     "evalue": "name 'Image' is not defined",
     "output_type": "error",
     "traceback": [
      "\u001b[0;31m---------------------------------------------------------------------------\u001b[0m",
      "\u001b[0;31mNameError\u001b[0m                                 Traceback (most recent call last)",
      "\u001b[0;32m<ipython-input-20-7441dc86ac07>\u001b[0m in \u001b[0;36m<module>\u001b[0;34m()\u001b[0m\n\u001b[1;32m      1\u001b[0m \u001b[0mratings\u001b[0m \u001b[0;34m=\u001b[0m \u001b[0;34m'1-10-5-1-5'\u001b[0m\u001b[0;34m\u001b[0m\u001b[0m\n\u001b[1;32m      2\u001b[0m \u001b[0mprint\u001b[0m\u001b[0;34m(\u001b[0m\u001b[0;34m'ratings: '\u001b[0m\u001b[0;34m,\u001b[0m \u001b[0mratings\u001b[0m\u001b[0;34m)\u001b[0m\u001b[0;34m\u001b[0m\u001b[0m\n\u001b[0;32m----> 3\u001b[0;31m \u001b[0mImage\u001b[0m\u001b[0;34m(\u001b[0m\u001b[0mfilename\u001b[0m\u001b[0;34m=\u001b[0m\u001b[0;34m'./results/gif/result_merge_'\u001b[0m \u001b[0;34m+\u001b[0m \u001b[0mratings\u001b[0m \u001b[0;34m+\u001b[0m \u001b[0;34m'.png'\u001b[0m\u001b[0;34m)\u001b[0m\u001b[0;34m\u001b[0m\u001b[0m\n\u001b[0m",
      "\u001b[0;31mNameError\u001b[0m: name 'Image' is not defined"
     ]
    }
   ],
   "source": [
    "ratings = '1-10-5-1-5'\n",
    "print('ratings: ', ratings)\n",
    "Image(filename='./results/gif/result_merge_' + ratings + '.png')"
   ]
  },
  {
   "cell_type": "code",
   "execution_count": 21,
   "metadata": {},
   "outputs": [
    {
     "name": "stdout",
     "output_type": "stream",
     "text": [
      "ratings:  1-1-1-1-1\n"
     ]
    },
    {
     "ename": "NameError",
     "evalue": "name 'Image' is not defined",
     "output_type": "error",
     "traceback": [
      "\u001b[0;31m---------------------------------------------------------------------------\u001b[0m",
      "\u001b[0;31mNameError\u001b[0m                                 Traceback (most recent call last)",
      "\u001b[0;32m<ipython-input-21-527a7ab9bd3d>\u001b[0m in \u001b[0;36m<module>\u001b[0;34m()\u001b[0m\n\u001b[1;32m      1\u001b[0m \u001b[0mratings\u001b[0m \u001b[0;34m=\u001b[0m \u001b[0;34m'1-1-1-1-1'\u001b[0m\u001b[0;34m\u001b[0m\u001b[0m\n\u001b[1;32m      2\u001b[0m \u001b[0mprint\u001b[0m\u001b[0;34m(\u001b[0m\u001b[0;34m'ratings: '\u001b[0m\u001b[0;34m,\u001b[0m \u001b[0mratings\u001b[0m\u001b[0;34m)\u001b[0m\u001b[0;34m\u001b[0m\u001b[0m\n\u001b[0;32m----> 3\u001b[0;31m \u001b[0mImage\u001b[0m\u001b[0;34m(\u001b[0m\u001b[0mfilename\u001b[0m\u001b[0;34m=\u001b[0m\u001b[0;34m'./results/gif/result_merge_'\u001b[0m \u001b[0;34m+\u001b[0m \u001b[0mratings\u001b[0m \u001b[0;34m+\u001b[0m \u001b[0;34m'.png'\u001b[0m\u001b[0;34m)\u001b[0m\u001b[0;34m\u001b[0m\u001b[0m\n\u001b[0m",
      "\u001b[0;31mNameError\u001b[0m: name 'Image' is not defined"
     ]
    }
   ],
   "source": [
    "ratings = '1-1-1-1-1'\n",
    "print('ratings: ', ratings)\n",
    "Image(filename='./results/gif/result_merge_' + ratings + '.png')"
   ]
  },
  {
   "cell_type": "code",
   "execution_count": 22,
   "metadata": {},
   "outputs": [
    {
     "name": "stdout",
     "output_type": "stream",
     "text": [
      "ratings:  1-1-10-1-1\n"
     ]
    },
    {
     "ename": "NameError",
     "evalue": "name 'Image' is not defined",
     "output_type": "error",
     "traceback": [
      "\u001b[0;31m---------------------------------------------------------------------------\u001b[0m",
      "\u001b[0;31mNameError\u001b[0m                                 Traceback (most recent call last)",
      "\u001b[0;32m<ipython-input-22-1e1135659588>\u001b[0m in \u001b[0;36m<module>\u001b[0;34m()\u001b[0m\n\u001b[1;32m      1\u001b[0m \u001b[0mratings\u001b[0m \u001b[0;34m=\u001b[0m \u001b[0;34m'1-1-10-1-1'\u001b[0m\u001b[0;34m\u001b[0m\u001b[0m\n\u001b[1;32m      2\u001b[0m \u001b[0mprint\u001b[0m\u001b[0;34m(\u001b[0m\u001b[0;34m'ratings: '\u001b[0m\u001b[0;34m,\u001b[0m \u001b[0mratings\u001b[0m\u001b[0;34m)\u001b[0m\u001b[0;34m\u001b[0m\u001b[0m\n\u001b[0;32m----> 3\u001b[0;31m \u001b[0mImage\u001b[0m\u001b[0;34m(\u001b[0m\u001b[0mfilename\u001b[0m\u001b[0;34m=\u001b[0m\u001b[0;34m'./results/gif/result_merge_'\u001b[0m \u001b[0;34m+\u001b[0m \u001b[0mratings\u001b[0m \u001b[0;34m+\u001b[0m \u001b[0;34m'.png'\u001b[0m\u001b[0;34m)\u001b[0m\u001b[0;34m\u001b[0m\u001b[0m\n\u001b[0m",
      "\u001b[0;31mNameError\u001b[0m: name 'Image' is not defined"
     ]
    }
   ],
   "source": [
    "ratings = '1-1-10-1-1'\n",
    "print('ratings: ', ratings)\n",
    "Image(filename='./results/gif/result_merge_' + ratings + '.png')"
   ]
  },
  {
   "cell_type": "code",
   "execution_count": 23,
   "metadata": {},
   "outputs": [],
   "source": [
    "# TODO:\n",
    "# Age Estimation: https://github.com/spmallick/learnopencv\n",
    "# Gender Estimation: https://github.com/spmallick/learnopencv\n",
    "# Hair Color\n",
    "# Eye Color\n",
    "# Facial Hair\n",
    "# Piercings\n",
    "# Scars\n",
    "# Real / Spoofed Faces\n",
    "# Multi-face merge\n",
    "# function for finding only the most directly aligned 68 points\n"
   ]
  }
 ],
 "metadata": {
  "kernelspec": {
   "display_name": "Python 3",
   "language": "python",
   "name": "python3"
  },
  "language_info": {
   "codemirror_mode": {
    "name": "ipython",
    "version": 3
   },
   "file_extension": ".py",
   "mimetype": "text/x-python",
   "name": "python",
   "nbconvert_exporter": "python",
   "pygments_lexer": "ipython3",
   "version": "3.6.4"
  }
 },
 "nbformat": 4,
 "nbformat_minor": 1
}
